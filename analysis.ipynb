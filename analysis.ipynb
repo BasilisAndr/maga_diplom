{
 "cells": [
  {
   "cell_type": "code",
   "execution_count": 19,
   "metadata": {
    "collapsed": true
   },
   "outputs": [],
   "source": [
    "from pprint import pprint"
   ]
  },
  {
   "cell_type": "code",
   "execution_count": 17,
   "metadata": {},
   "outputs": [],
   "source": [
    "pref = {}\n",
    "suf = {}\n",
    "currents_p = []\n",
    "currents_s = []\n",
    "with open('razmetka.csv') as f:\n",
    "    for line in f:\n",
    "        morline = line.split(';')\n",
    "        if morline[2] == 'префикс':\n",
    "            currents_p.append(morline[1])\n",
    "        elif morline[2] == 'суффикс':\n",
    "            currents_s.append(morline[1])\n",
    "        else:\n",
    "            if currents_s and len(currents_s) > 1:\n",
    "                for i in range(len(currents_s)-1):\n",
    "                    suf[currents_s[i]] = suf.get(currents_s[i], set())\n",
    "                    suf[currents_s[i]].add(currents_s[i+1])\n",
    "            elif currents_p and len(currents_p) > 1:\n",
    "                for i in range(len(currents_p)-1):\n",
    "                    pref[currents_p[i]] = pref.get(currents_p[i], set())\n",
    "                    pref[currents_p[i]].add(currents_p[i+1])\n",
    "            currents_p, currents_s = [], []"
   ]
  },
  {
   "cell_type": "code",
   "execution_count": 21,
   "metadata": {},
   "outputs": [
    {
     "name": "stdout",
     "output_type": "stream",
     "text": [
      "62\n"
     ]
    }
   ],
   "source": [
    "pprint(len(pref))"
   ]
  },
  {
   "cell_type": "code",
   "execution_count": null,
   "metadata": {
    "collapsed": true
   },
   "outputs": [],
   "source": []
  }
 ],
 "metadata": {
  "kernelspec": {
   "display_name": "maga",
   "language": "python",
   "name": "maga"
  },
  "language_info": {
   "codemirror_mode": {
    "name": "ipython",
    "version": 3
   },
   "file_extension": ".py",
   "mimetype": "text/x-python",
   "name": "python",
   "nbconvert_exporter": "python",
   "pygments_lexer": "ipython3",
   "version": "3.6.4"
  }
 },
 "nbformat": 4,
 "nbformat_minor": 2
}
